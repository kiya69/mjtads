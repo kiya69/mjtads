{
 "cells": [
  {
   "cell_type": "markdown",
   "id": "ae79071d-af6d-4c4f-ab94-df9138e458b3",
   "metadata": {},
   "source": [
    "<p style=\"color:Blue; font-size: 20px; font-weight: bold; text-align: center\"> MBAI 5300: Assignment-1 </p>\n",
    "<p style=\"color:Black; font-size: 15px; font-weight: bold; text-align: center\"> Value: 15%, Due: Oct. 8th @ 11:59 PM </p>\n",
    "\n",
    "This assignment must be completed independently. Academic integrity is a core value at Ontario Tech University, and any form of plagiarism or cheating will be addressed in accordance with the Academic Integrity Policy (https://usgc.ontariotechu.ca/policy/policy-library/policies/academic/academic-integrity-policy.php).\n",
    "\n",
    "**Academic misconduct includes, but is not limited to:**\n",
    "\n",
    "* Using generative AI tools (e.g., ChatGPT, Copilot)\n",
    "* Copying large portions of code from online or external sources\n",
    "\n",
    "To confirm that your work is entirely your own, please include the following statement in the comment textbox when submitting your files on Canvas:\n",
    "\n",
    "\"***I have not given, received, or used any unauthorized assistance.***\"\n",
    "\n",
    "**GRADING CRITERIA**\n",
    "\n",
    "Grades are awarded based on the following criteria:\n",
    "* Program Correctness: 75%\n",
    "* Code Efficiency: 10%\n",
    "* Readability: 7.5%\n",
    "* Documentation: 7.5%"
   ]
  },
  {
   "cell_type": "markdown",
   "id": "46c0a7f8-63d0-47bc-8ee2-5e92e1d005ac",
   "metadata": {},
   "source": [
    "1. **(10 Points)** Create a function named `longest_word` that accepts a string containing multiple words and returns the longest word in the string. If there are multiple words of the same maximum length, return the one that appears first.\n",
    "\n",
    "    **Sample Input:**\n",
    "    \n",
    "    `text = \"Make sure you enter the following verification code within the next 10 minutes verificatio\"`\n",
    "\n",
    "    **Sample output:**\n",
    "    \n",
    "    `longest_word(text)` should output `verification`."
   ]
  },
  {
   "cell_type": "code",
   "execution_count": 86,
   "id": "91212973-6748-466b-899b-5d6b47b146bf",
   "metadata": {},
   "outputs": [
    {
     "name": "stdout",
     "output_type": "stream",
     "text": [
      "['Make', 'sure', 'you', 'enter', 'the', 'following', 'verification', 'code', 'within', 'the', 'next', '10', 'minutes', 'verificati12']\n"
     ]
    },
    {
     "data": {
      "text/plain": [
       "'verification'"
      ]
     },
     "execution_count": 86,
     "metadata": {},
     "output_type": "execute_result"
    }
   ],
   "source": [
    "def longest_word(text):\n",
    "    # Normally we should remove all the symbols and split the text into a list, \n",
    "    # but it was not taught so I assume it's out of scope\n",
    "    # divide the text with a space and put it in a list\n",
    "    list = text.split(' ')\n",
    "    print(list)\n",
    "    longestLen = 0\n",
    "    longestWord = ''\n",
    "    for word in list:\n",
    "        if(len(word) > longestLen):\n",
    "            longestLen = len(word)\n",
    "            longestWord = word\n",
    "    return longestWord\n",
    "\n",
    "longest_word(\"Make sure you enter the following verification code within the next 10 minutes verificati12\")   "
   ]
  },
  {
   "cell_type": "markdown",
   "id": "55d20f48-e365-4b31-b597-b26c67c77f74",
   "metadata": {},
   "source": [
    "2. **(15 Points)** Create a function named `count_negatives` that counts the number of negative values in a NumPy array. The function should accept two arguments: a NumPy array and an optional `axis` parameter.\n",
    "\n",
    "    * If `axis=0`, count the negative numbers in each **column**.\n",
    "    * If `axis=1`, count the negative numbers in each **row**.\n",
    "    * If no axis is specified, return the total count of negative numbers in the entire array.\n",
    "    \n",
    "   **Sample Input:**\n",
    "      ```python\n",
    "      arr = np.array([[2, -4, 3],\n",
    "                      [-1, 6, -5],\n",
    "                      [9, 0, -7]])\n",
    "      ```\n",
    "   **Sample output:**\n",
    "\n",
    "    * `count_negatives(arr, axis=0)` should output `[1, 1, 2]`.\n",
    "    * `count_negatives(arr, axis=1)` should output `[1, 2, 1]`.\n",
    "    * `count_negatives(arr)` should output `4`.   "
   ]
  },
  {
   "cell_type": "code",
   "execution_count": 115,
   "id": "4dc33c49-8077-4511-a711-1f9cca1d41c7",
   "metadata": {},
   "outputs": [
    {
     "name": "stdout",
     "output_type": "stream",
     "text": [
      "count_negatives, axis=0: [1 1 2]\n",
      "count_negatives, axis=1: [1 2 1]\n",
      "count_negatives with no axis, sum of negative numbers: 3\n"
     ]
    }
   ],
   "source": [
    "import numpy as np\n",
    "def count_negatives(arr, axis = None):\n",
    "    # check if the array is less than or equal to 2-dimensional\n",
    "    if(arr.ndim > 2 or arr.ndim == 0): \n",
    "        print(\"ERROR: Please enter 2- or 1-dimentsionla array\")\n",
    "        return\n",
    "    # Check if axis is 0 or 1\n",
    "    if(axis != 1 and axis != 0 and axis != None): \n",
    "        print(\"ERROR: The axis you entered is incorrect, please enter either 1 or 2\")\n",
    "        return\n",
    "    num_rows, num_cols = arr.shape\n",
    "    \n",
    "    result = np.zeros((1,num_rows), dtype = 'int')\n",
    "\n",
    "    j = 0\n",
    "    sum = 0\n",
    "    # count negative numbers in columns  \n",
    "    if(axis == 0):\n",
    "        # generate a 1-D array with the length of the columns \n",
    "        result = np.zeros(num_cols, dtype = 'int')\n",
    "        while j < num_cols:\n",
    "            for value, i in zip(arr[:,j], range(num_rows)):\n",
    "                if(value < 0):\n",
    "                    result[j]+=1\n",
    "            j += 1;\n",
    "        return result\n",
    "    # count negative numbers in rows\n",
    "    elif(axis == 1):\n",
    "        # generate a 1-D array with the length of the rows \n",
    "        result = np.zeros(num_rows, dtype = 'int')\n",
    "        while j < num_rows:\n",
    "            # print('j', j)\n",
    "            for value, i in zip(arr[j, :], range(num_cols)):\n",
    "                # print(\"value, i\", value, i)\n",
    "                if(value < 0):\n",
    "                    result[j]+=1\n",
    "            j += 1;\n",
    "        return result       \n",
    "    else:\n",
    "        newArr = arr.flatten()\n",
    "        for value in newArr:\n",
    "            if(value < 0):\n",
    "             sum += 1\n",
    "        return sum\n",
    "\n",
    "ThreeDarray = np.array([[[1, 3, 5, 9], [3, 4, 4, 1]], \n",
    "                    [[1, 5, 5, 10], [4, 5, 10, 1]],\n",
    "                    [[2, 4, 7, 2], [7, 10, 20, 4]]])\n",
    "\n",
    "arr = np.array([[2, -4, 3],[-1, 6, -5],[9, 0, -7]])\n",
    "# Different shapes of 2d array:\n",
    "# arr2 = np.array([[2, -4, 3, 0],\n",
    "#                 [-1, 6, -5, 0]])\n",
    "\n",
    "arr3 = np.array([[2, -4], [3, 0],\n",
    "                 [-1, 6], [-5, 0]])\n",
    "\n",
    "# print('count_negatives, axis=0:', count_negatives(Threedarray,3))\n",
    "print('count_negatives, axis=0:', count_negatives(arr,0))\n",
    "print('count_negatives, axis=1:', count_negatives(arr,1))\n",
    "print('count_negatives with no axis, sum of negative numbers:', count_negatives(arr3))"
   ]
  },
  {
   "cell_type": "markdown",
   "id": "91e6cde6-e222-41b4-8a55-185225a5b709",
   "metadata": {},
   "source": [
    "3. **(25 Points)** Write a function called `normalize_and_filter` that performs the following operations:\n",
    "\n",
    "**Takes as input:**\n",
    "\n",
    "* A list of numerical values.\n",
    "* A threshold value (float).\n",
    "* A Boolean flag return_indices (default False).\n",
    "\n",
    "**The function should:**\n",
    "\n",
    "* Convert the list to a NumPy array and normalize the array using z-score normalization (subtract the mean and divide by the standard deviation).\n",
    "\n",
    "$$\n",
    "z = \\frac{x - \\mu}{\\sigma}\n",
    "$$\n",
    "\n",
    "* Filter and return all values greater than the given threshold after normalization.\n",
    "\n",
    "* If `return_indices=True`, return the indices (from the original list) of the filtered values instead of the values themselves.\n",
    "\n",
    "* Your function should return -1 if the standard deviation is 0.\n",
    "    \n",
    "**Sample Input:**\n",
    "```python\n",
    "data = [10, 25, 20, 15, 30]\n",
    "threshold = 0.5\n",
    "  ```\n",
    "**Sample output:**\n",
    "    \n",
    "* `normalize_and_filter(data, threshold)` should output [25.0, 30.0] because the z-score normalization values for 25 and 30 are higher than 0.5.  \n",
    "\n",
    "* `normalize_and_filter(data, threshold, return_indices=True)` should output [1, 4]."
   ]
  },
  {
   "cell_type": "code",
   "execution_count": 145,
   "id": "a53ec453-4780-478d-a579-28fd6966db84",
   "metadata": {},
   "outputs": [
    {
     "name": "stdout",
     "output_type": "stream",
     "text": [
      "mean 20.0\n",
      "std 7.0710678118654755\n",
      "i, value 0 10\n",
      "i, value 1 25\n",
      "i, value 2 20\n",
      "i, value 3 15\n",
      "i, value 4 30\n",
      "[25, 30]\n",
      "mean 20.0\n",
      "std 7.0710678118654755\n",
      "i, value 0 10\n",
      "i, value 1 25\n",
      "return_indices True\n",
      "i, value 2 20\n",
      "i, value 3 15\n",
      "i, value 4 30\n",
      "return_indices True\n",
      "[1, 4]\n"
     ]
    }
   ],
   "source": [
    "import numpy as np\n",
    "def normalize_and_filter(data, threshold, return_indices=False):\n",
    "    # error check if it's one-dimensional array\n",
    "    arr = np.array(data)\n",
    "    mean = arr.mean()\n",
    "    std = arr.std()\n",
    "    result = []\n",
    "    print('mean', mean)\n",
    "    print('std', std)\n",
    "    for i, value in enumerate(data):\n",
    "        x = (value - mean) / std\n",
    "        print('i, value', i, value)\n",
    "        if(x >= threshold):\n",
    "            if(return_indices == True):\n",
    "                result.append(i)\n",
    "            else:\n",
    "                result.append(value)\n",
    "    return result\n",
    "\n",
    "print(normalize_and_filter([10, 25, 20, 15, 30], 0.5))\n",
    "print(normalize_and_filter([10, 25, 20, 15, 30], 0.5, True))\n",
    "    "
   ]
  },
  {
   "cell_type": "markdown",
   "id": "1ca90216-91f5-4f2b-9423-54ae5af06b09",
   "metadata": {},
   "source": [
    "4. **(50 Points)** The file `air-quality-index.csv` contains Air Quality Index (AQI) values for various countries across the years 2000, 2006, 2012, and 2021. Using Pandas, perform the following analyses:\n",
    "\n",
    "    a) Identify countries that had an AQI value greater than 150 in either 2000 or 2006. Your code should output a list of these countries.\n",
    "\n",
    "    b) Find countries with AQI values greater than 150 in both 2000 and 2006. Calculate their average AQI over these two years. Your output should include the country names alongside their average AQI values.\n",
    "\n",
    "    c) Calculate the global average AQI for each year from 2000 to 2021 and create a bar or line plot to visualize these trends.\n",
    "\n",
    "    d) Compute the average AQI between 2000 and 2021 for India, China, the United States, Brazil, and Russia. Generate a bar plot showing these averages in descending order. (Hint: use sort_values() to order the results.)\n",
    "\n",
    "    e) For the year 2021, categorize countries based on their AQI values into:\n",
    "\n",
    "        Unhealthy: AQI ≥ 150\n",
    "        Moderate: AQI between 100 and 150\n",
    "        Good: AQI ≤ 100\n",
    "   Determine the count of countries in each category and plot a pie chart illustrating the distribution."
   ]
  },
  {
   "cell_type": "code",
   "execution_count": 19,
   "id": "ab69f2f0-05b1-4027-a2fe-f58deca9f23c",
   "metadata": {},
   "outputs": [
    {
     "data": {
      "text/html": [
       "<div>\n",
       "<style scoped>\n",
       "    .dataframe tbody tr th:only-of-type {\n",
       "        vertical-align: middle;\n",
       "    }\n",
       "\n",
       "    .dataframe tbody tr th {\n",
       "        vertical-align: top;\n",
       "    }\n",
       "\n",
       "    .dataframe thead th {\n",
       "        text-align: right;\n",
       "    }\n",
       "</style>\n",
       "<table border=\"1\" class=\"dataframe\">\n",
       "  <thead>\n",
       "    <tr style=\"text-align: right;\">\n",
       "      <th></th>\n",
       "      <th>Country</th>\n",
       "      <th>2000</th>\n",
       "      <th>2006</th>\n",
       "      <th>2012</th>\n",
       "      <th>2021</th>\n",
       "    </tr>\n",
       "  </thead>\n",
       "  <tbody>\n",
       "    <tr>\n",
       "      <th>0</th>\n",
       "      <td>India</td>\n",
       "      <td>150</td>\n",
       "      <td>170</td>\n",
       "      <td>180</td>\n",
       "      <td>200</td>\n",
       "    </tr>\n",
       "    <tr>\n",
       "      <th>1</th>\n",
       "      <td>China</td>\n",
       "      <td>200</td>\n",
       "      <td>210</td>\n",
       "      <td>190</td>\n",
       "      <td>210</td>\n",
       "    </tr>\n",
       "    <tr>\n",
       "      <th>10</th>\n",
       "      <td>Nigeria</td>\n",
       "      <td>160</td>\n",
       "      <td>165</td>\n",
       "      <td>170</td>\n",
       "      <td>180</td>\n",
       "    </tr>\n",
       "    <tr>\n",
       "      <th>17</th>\n",
       "      <td>Indonesia</td>\n",
       "      <td>190</td>\n",
       "      <td>200</td>\n",
       "      <td>210</td>\n",
       "      <td>220</td>\n",
       "    </tr>\n",
       "    <tr>\n",
       "      <th>22</th>\n",
       "      <td>Philippines</td>\n",
       "      <td>150</td>\n",
       "      <td>160</td>\n",
       "      <td>170</td>\n",
       "      <td>175</td>\n",
       "    </tr>\n",
       "    <tr>\n",
       "      <th>24</th>\n",
       "      <td>Vietnam</td>\n",
       "      <td>160</td>\n",
       "      <td>165</td>\n",
       "      <td>170</td>\n",
       "      <td>175</td>\n",
       "    </tr>\n",
       "    <tr>\n",
       "      <th>25</th>\n",
       "      <td>Pakistan</td>\n",
       "      <td>180</td>\n",
       "      <td>190</td>\n",
       "      <td>200</td>\n",
       "      <td>210</td>\n",
       "    </tr>\n",
       "    <tr>\n",
       "      <th>26</th>\n",
       "      <td>Iran</td>\n",
       "      <td>140</td>\n",
       "      <td>150</td>\n",
       "      <td>160</td>\n",
       "      <td>170</td>\n",
       "    </tr>\n",
       "    <tr>\n",
       "      <th>28</th>\n",
       "      <td>Bangladesh</td>\n",
       "      <td>155</td>\n",
       "      <td>160</td>\n",
       "      <td>165</td>\n",
       "      <td>170</td>\n",
       "    </tr>\n",
       "    <tr>\n",
       "      <th>49</th>\n",
       "      <td>Qatar</td>\n",
       "      <td>150</td>\n",
       "      <td>160</td>\n",
       "      <td>170</td>\n",
       "      <td>180</td>\n",
       "    </tr>\n",
       "  </tbody>\n",
       "</table>\n",
       "</div>"
      ],
      "text/plain": [
       "        Country  2000  2006  2012  2021\n",
       "0         India   150   170   180   200\n",
       "1         China   200   210   190   210\n",
       "10      Nigeria   160   165   170   180\n",
       "17    Indonesia   190   200   210   220\n",
       "22  Philippines   150   160   170   175\n",
       "24      Vietnam   160   165   170   175\n",
       "25     Pakistan   180   190   200   210\n",
       "26         Iran   140   150   160   170\n",
       "28   Bangladesh   155   160   165   170\n",
       "49        Qatar   150   160   170   180"
      ]
     },
     "execution_count": 19,
     "metadata": {},
     "output_type": "execute_result"
    }
   ],
   "source": [
    "import pandas as pd\n",
    "airData = pd.read_csv(\"air-quality-index.csv\")\n",
    "#a\n",
    "threshold = 150\n",
    "AQIGreaterThan150FilterIn2000or2006 = ((airData[\"2000\"] >= threshold) |\n",
    "                      (airData[\"2006\"] >= threshold) )\n",
    "AQIGreaterThan150In2000or2006 = airData[AQIGreaterThan150FilterIn2000or2006]\n",
    "AQIGreaterThan150In2000or2006\n",
    "# high_salary_engineers = majors_df.loc[high_salary_filter, [\"Major\",\"Median\"]]\n",
    "# high_salary_engineers\n",
    "# airData.head()\n",
    "# #a\n",
    "# airData"
   ]
  },
  {
   "cell_type": "code",
   "execution_count": 18,
   "id": "0863f5ec-749b-4e24-b597-e1bb09a97e9a",
   "metadata": {},
   "outputs": [
    {
     "data": {
      "text/html": [
       "<div>\n",
       "<style scoped>\n",
       "    .dataframe tbody tr th:only-of-type {\n",
       "        vertical-align: middle;\n",
       "    }\n",
       "\n",
       "    .dataframe tbody tr th {\n",
       "        vertical-align: top;\n",
       "    }\n",
       "\n",
       "    .dataframe thead th {\n",
       "        text-align: right;\n",
       "    }\n",
       "</style>\n",
       "<table border=\"1\" class=\"dataframe\">\n",
       "  <thead>\n",
       "    <tr style=\"text-align: right;\">\n",
       "      <th></th>\n",
       "      <th>Country</th>\n",
       "      <th>AverageOver2000and2006</th>\n",
       "    </tr>\n",
       "  </thead>\n",
       "  <tbody>\n",
       "    <tr>\n",
       "      <th>0</th>\n",
       "      <td>India</td>\n",
       "      <td>160.0</td>\n",
       "    </tr>\n",
       "    <tr>\n",
       "      <th>1</th>\n",
       "      <td>China</td>\n",
       "      <td>205.0</td>\n",
       "    </tr>\n",
       "    <tr>\n",
       "      <th>10</th>\n",
       "      <td>Nigeria</td>\n",
       "      <td>162.5</td>\n",
       "    </tr>\n",
       "    <tr>\n",
       "      <th>17</th>\n",
       "      <td>Indonesia</td>\n",
       "      <td>195.0</td>\n",
       "    </tr>\n",
       "    <tr>\n",
       "      <th>22</th>\n",
       "      <td>Philippines</td>\n",
       "      <td>155.0</td>\n",
       "    </tr>\n",
       "    <tr>\n",
       "      <th>24</th>\n",
       "      <td>Vietnam</td>\n",
       "      <td>162.5</td>\n",
       "    </tr>\n",
       "    <tr>\n",
       "      <th>25</th>\n",
       "      <td>Pakistan</td>\n",
       "      <td>185.0</td>\n",
       "    </tr>\n",
       "    <tr>\n",
       "      <th>28</th>\n",
       "      <td>Bangladesh</td>\n",
       "      <td>157.5</td>\n",
       "    </tr>\n",
       "    <tr>\n",
       "      <th>49</th>\n",
       "      <td>Qatar</td>\n",
       "      <td>155.0</td>\n",
       "    </tr>\n",
       "  </tbody>\n",
       "</table>\n",
       "</div>"
      ],
      "text/plain": [
       "        Country  AverageOver2000and2006\n",
       "0         India                   160.0\n",
       "1         China                   205.0\n",
       "10      Nigeria                   162.5\n",
       "17    Indonesia                   195.0\n",
       "22  Philippines                   155.0\n",
       "24      Vietnam                   162.5\n",
       "25     Pakistan                   185.0\n",
       "28   Bangladesh                   157.5\n",
       "49        Qatar                   155.0"
      ]
     },
     "execution_count": 18,
     "metadata": {},
     "output_type": "execute_result"
    }
   ],
   "source": [
    "#b\n",
    "AQIGreaterThan150FilterIn2000and2006 = ((airData[\"2000\"] >= threshold) &\n",
    "                      (airData[\"2006\"] >= threshold) )\n",
    "AQIGreaterThan150In2000and2006 = airData[AQIGreaterThan150FilterIn2000and2006]\n",
    "average = (AQIGreaterThan150In2000and2006[\"2000\"] + AQIGreaterThan150In2000and2006[\"2006\"])/2\n",
    "result = pd.DataFrame({\n",
    "    \"Country\": AQIGreaterThan150In2000and2006.Country,\n",
    "    \"AverageOver2000and2006\": average\n",
    "})\n",
    "result\n",
    "\n",
    "\n"
   ]
  },
  {
   "cell_type": "code",
   "execution_count": 59,
   "id": "3aa57c3a-96e4-4968-8ab8-150a678828f1",
   "metadata": {},
   "outputs": [
    {
     "name": "stdout",
     "output_type": "stream",
     "text": [
      "2000     85.2\n",
      "2006     91.8\n",
      "2012     96.6\n",
      "2021    103.2\n",
      "dtype: float64\n"
     ]
    },
    {
     "data": {
      "text/plain": [
       "<Axes: title={'center': 'Average AQI by Years'}, ylabel='Average AQI'>"
      ]
     },
     "execution_count": 59,
     "metadata": {},
     "output_type": "execute_result"
    },
    {
     "data": {
      "image/png": "[encoded data removed]",
      "text/plain": [
       "<Figure size 700x700 with 1 Axes>"
      ]
     },
     "metadata": {},
     "output_type": "display_data"
    }
   ],
   "source": [
    "#c) Calculate the global average AQI for each year from 2000 to 2021 and create a bar or line plot to visualize these trends.\n",
    "globalAverage= airData.iloc[:, 1:].mean()\n",
    "print(globalAverage)\n",
    "\n",
    "globalAverage.plot(kind = 'bar', ylabel = \"Average AQI\", title = 'Average AQI by Years', figsize =(7, 7))"
   ]
  },
  {
   "cell_type": "code",
   "execution_count": 62,
   "id": "dc76ba9e-7ac8-40e2-9548-f1bcaa45d71c",
   "metadata": {},
   "outputs": [
    {
     "name": "stdout",
     "output_type": "stream",
     "text": [
      "filteredData\n",
      "          Country  2000  2006  2012  2021\n",
      "0          India   150   170   180   200\n",
      "1          China   200   210   190   210\n",
      "2  United States    75    80    85    90\n",
      "3         Brazil   100   110    95   100\n",
      "4         Russia    90    95    80    85\n",
      "averageByCountries\n",
      " 0    175.00\n",
      "1    202.50\n",
      "2     82.50\n",
      "3    101.25\n",
      "4     87.50\n",
      "dtype: float64\n",
      "combined          Country  Average\n",
      "0          India   175.00\n",
      "1          China   202.50\n",
      "2  United States    82.50\n",
      "3         Brazil   101.25\n",
      "4         Russia    87.50\n"
     ]
    },
    {
     "data": {
      "text/plain": [
       "<Axes: title={'center': 'Average AQI by Countries'}, xlabel='Country', ylabel='Average AQI'>"
      ]
     },
     "execution_count": 62,
     "metadata": {},
     "output_type": "execute_result"
    },
    {
     "data": {
      "image/png": "[encoded data removed]",
      "text/plain": [
       "<Figure size 700x700 with 1 Axes>"
      ]
     },
     "metadata": {},
     "output_type": "display_data"
    }
   ],
   "source": [
    "#d) Compute the average AQI between 2000 and 2021 for India, China, \n",
    "# the United States, Brazil, and Russia. \n",
    "# Generate a bar plot showing these averages in descending order. (Hint: use sort_values() to order the results.)\n",
    "desiredCountries = [\"India\", \"China\",  \"United States\", \"Brazil\", \"Russia\"]\n",
    "# filter = (airData.Country == \"India\" | airData.Country == \"Chine\" | airData.Country == \"United States\" | airData.Country == \"Brazil\" | airData.Country == \"Russia\" )\n",
    "filter = ((airData.Country == \"India\") | (airData.Country == \"China\") | \n",
    "         (airData.Country == \"United States\") | (airData.Country == \"Brazil\") | (airData.Country == \"Russia\"))\n",
    "filteredData = airData[filter]\n",
    "print('filteredData\\n',filteredData)\n",
    "averageByCountries = filteredData.iloc[:, 1:].mean(axis=1)\n",
    "print(\"averageByCountries\\n\", averageByCountries)\n",
    "\n",
    "# df_new_row = pd.DataFrame([new_row])\n",
    "# new_df = pd.concat([employees_df, df_new_row], axis = 0, ignore_index=True) #  ignore_index=True: avoid duplicate indices\n",
    "# new_df\n",
    "\n",
    "combined = pd.DataFrame({\n",
    "    \"Country\": desiredCountries,\n",
    "    \"Average\": averageByCountries\n",
    "}) \n",
    "print('combined', combined)\n",
    "combined.sort_values(\"Average\", ascending=False).plot(kind = 'bar', ylabel = \"Average AQI\", title = 'Average AQI by Countries', x = 'Country', figsize =(7, 7))\n",
    "\n"
   ]
  },
  {
   "cell_type": "code",
   "execution_count": 85,
   "id": "742f2ecd-e9a0-4136-8cc7-e3fc19d1a656",
   "metadata": {},
   "outputs": [
    {
     "data": {
      "text/plain": [
       "<Axes: title={'center': 'Air quality distribution by categories'}, ylabel='quality_category'>"
      ]
     },
     "execution_count": 85,
     "metadata": {},
     "output_type": "execute_result"
    },
    {
     "data": {
      "image/png": "[encoded data removed]",
      "text/plain": [
       "<Figure size 700x500 with 1 Axes>"
      ]
     },
     "metadata": {},
     "output_type": "display_data"
    }
   ],
   "source": [
    "#e) For the year 2021, categorize countries based on their AQI values into:\n",
    "#  Unhealthy: AQI ≥ 150\n",
    "#  Moderate: AQI between 100 and 150\n",
    "#  Good: AQI ≤ 100\n",
    "# Determine the count of countries in each category and plot a pie chart illustrating \n",
    "# the distribution.\n",
    "\n",
    "\n",
    "UnhealthyFilter = airData[\"2021\"] >= 150\n",
    "ModerateFilter = ((airData[\"2021\"] < 150) & (airData[\"2021\"] > 100))\n",
    "GoodFilter = airData[\"2021\"] <= 100\n",
    "\n",
    "airData['quality_category'] = 'Unknown' \n",
    "airData.loc[UnhealthyFilter, 'quality_category'] = 'Unhealthy'\n",
    "airData.loc[ModerateFilter, 'quality_category'] = 'Moderate'\n",
    "airData.loc[GoodFilter, 'quality_category'] = 'Good'\n",
    "airData.head(10)\n",
    "num_categories = airData.groupby(by=\"quality_category\")[\"quality_category\"].count()\n",
    "num_categories.plot(kind = 'pie', title = 'Air quality distribution by categories', figsize = (7,5), autopct='%1.2f%%')\n"
   ]
  },
  {
   "cell_type": "code",
   "execution_count": null,
   "id": "13289611-f8df-475e-976c-ef837007045e",
   "metadata": {},
   "outputs": [],
   "source": []
  }
 ],
 "metadata": {
  "kernelspec": {
   "display_name": "Python [conda env:base] *",
   "language": "python",
   "name": "conda-base-py"
  },
  "language_info": {
   "codemirror_mode": {
    "name": "ipython",
    "version": 3
   },
   "file_extension": ".py",
   "mimetype": "text/x-python",
   "name": "python",
   "nbconvert_exporter": "python",
   "pygments_lexer": "ipython3",
   "version": "3.13.5"
  }
 },
 "nbformat": 4,
 "nbformat_minor": 5
}

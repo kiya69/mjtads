{
 "cells": [
  {
   "cell_type": "markdown",
   "id": "ae79071d-af6d-4c4f-ab94-df9138e458b3",
   "metadata": {},
   "source": [
    "<p style=\"color:Blue; font-size: 20px; font-weight: bold; text-align: center\"> MBAI 5300: Assignment-1 </p>\n",
    "<p style=\"color:Black; font-size: 15px; font-weight: bold; text-align: center\"> Value: 15%, Due: Oct. 8th @ 11:59 PM </p>\n",
    "\n",
    "This assignment must be completed independently. Academic integrity is a core value at Ontario Tech University, and any form of plagiarism or cheating will be addressed in accordance with the Academic Integrity Policy (https://usgc.ontariotechu.ca/policy/policy-library/policies/academic/academic-integrity-policy.php).\n",
    "\n",
    "**Academic misconduct includes, but is not limited to:**\n",
    "\n",
    "* Using generative AI tools (e.g., ChatGPT, Copilot)\n",
    "* Copying large portions of code from online or external sources\n",
    "\n",
    "To confirm that your work is entirely your own, please include the following statement in the comment textbox when submitting your files on Canvas:\n",
    "\n",
    "\"***I have not given, received, or used any unauthorized assistance.***\"\n",
    "\n",
    "**GRADING CRITERIA**\n",
    "\n",
    "Grades are awarded based on the following criteria:\n",
    "* Program Correctness: 75%\n",
    "* Code Efficiency: 10%\n",
    "* Readability: 7.5%\n",
    "* Documentation: 7.5%"
   ]
  },
  {
   "cell_type": "markdown",
   "id": "46c0a7f8-63d0-47bc-8ee2-5e92e1d005ac",
   "metadata": {},
   "source": [
    "1. **(10 Points)** Create a function named `longest_word` that accepts a string containing multiple words and returns the longest word in the string. If there are multiple words of the same maximum length, return the one that appears first.\n",
    "\n",
    "    **Sample Input:**\n",
    "    \n",
    "    `text = \"Make sure you enter the following verification code within the next 10 minutes\"`\n",
    "\n",
    "    **Sample output:**\n",
    "    \n",
    "    `longest_word(text)` should output `verification`."
   ]
  },
  {
   "cell_type": "code",
   "execution_count": null,
   "id": "91212973-6748-466b-899b-5d6b47b146bf",
   "metadata": {},
   "outputs": [],
   "source": []
  },
  {
   "cell_type": "markdown",
   "id": "55d20f48-e365-4b31-b597-b26c67c77f74",
   "metadata": {},
   "source": [
    "2. **(15 Points)** Create a function named `count_negatives` that counts the number of negative values in a NumPy array. The function should accept two arguments: a NumPy array and an optional `axis` parameter.\n",
    "\n",
    "    * If `axis=0`, count the negative numbers in each **column**.\n",
    "    * If `axis=1`, count the negative numbers in each **row**.\n",
    "    * If no axis is specified, return the total count of negative numbers in the entire array.\n",
    "    \n",
    "   **Sample Input:**\n",
    "      ```python\n",
    "      arr = np.array([[2, -4, 3],\n",
    "                      [-1, 6, -5],\n",
    "                      [9, 0, -7]])\n",
    "      ```\n",
    "   **Sample output:**\n",
    "\n",
    "    * `count_negatives(arr, axis=0)` should output `[1, 1, 2]`.\n",
    "    * `count_negatives(arr, axis=1)` should output `[1, 2, 1]`.\n",
    "    * `count_negatives(arr)` should output `4`.   "
   ]
  },
  {
   "cell_type": "code",
   "execution_count": null,
   "id": "4dc33c49-8077-4511-a711-1f9cca1d41c7",
   "metadata": {},
   "outputs": [],
   "source": []
  },
  {
   "cell_type": "markdown",
   "id": "91e6cde6-e222-41b4-8a55-185225a5b709",
   "metadata": {},
   "source": [
    "3. **(25 Points)** Write a function called `normalize_and_filter` that performs the following operations:\n",
    "\n",
    "**Takes as input:**\n",
    "\n",
    "* A list of numerical values.\n",
    "* A threshold value (float).\n",
    "* A Boolean flag return_indices (default False).\n",
    "\n",
    "**The function should:**\n",
    "\n",
    "* Convert the list to a NumPy array and normalize the array using z-score normalization (subtract the mean and divide by the standard deviation).\n",
    "\n",
    "$$\n",
    "z = \\frac{x - \\mu}{\\sigma}\n",
    "$$\n",
    "\n",
    "* Filter and return all values greater than the given threshold after normalization.\n",
    "\n",
    "* If `return_indices=True`, return the indices (from the original list) of the filtered values instead of the values themselves.\n",
    "\n",
    "* Your function should return -1 if the standard deviation is 0.\n",
    "    \n",
    "**Sample Input:**\n",
    "```python\n",
    "data = [10, 25, 20, 15, 30]\n",
    "threshold = 0.5\n",
    "  ```\n",
    "**Sample output:**\n",
    "    \n",
    "* `normalize_and_filter(data, threshold)` should output [25.0, 30.0] because the z-score normalization values for 25 and 30 are higher than 0.5.  \n",
    "\n",
    "* `normalize_and_filter(data, threshold, return_indices=True)` should output [1, 4]."
   ]
  },
  {
   "cell_type": "code",
   "execution_count": null,
   "id": "a53ec453-4780-478d-a579-28fd6966db84",
   "metadata": {},
   "outputs": [],
   "source": []
  },
  {
   "cell_type": "markdown",
   "id": "1ca90216-91f5-4f2b-9423-54ae5af06b09",
   "metadata": {},
   "source": [
    "4. **(50 Points)** The file `air-quality-index.csv` contains Air Quality Index (AQI) values for various countries across the years 2000, 2006, 2012, and 2021. Using Pandas, perform the following analyses:\n",
    "\n",
    "    a) Identify countries that had an AQI value greater than 150 in either 2000 or 2006. Your code should output a list of these countries.\n",
    "\n",
    "    b) Find countries with AQI values greater than 150 in both 2000 and 2006. Calculate their average AQI over these two years. Your output should include the country names alongside their average AQI values.\n",
    "\n",
    "    c) Calculate the global average AQI for each year from 2000 to 2021 and create a bar or line plot to visualize these trends.\n",
    "\n",
    "    d) Compute the average AQI between 2000 and 2021 for India, China, the United States, Brazil, and Russia. Generate a bar plot showing these averages in descending order. (Hint: use sort_values() to order the results.)\n",
    "\n",
    "    e) For the year 2021, categorize countries based on their AQI values into:\n",
    "\n",
    "        Unhealthy: AQI ≥ 150\n",
    "        Moderate: AQI between 100 and 150\n",
    "        Good: AQI ≤ 100\n",
    "   Determine the count of countries in each category and plot a pie chart illustrating the distribution."
   ]
  }
 ],
 "metadata": {
  "kernelspec": {
   "display_name": "Python 3 (ipykernel)",
   "language": "python",
   "name": "python3"
  },
  "language_info": {
   "codemirror_mode": {
    "name": "ipython",
    "version": 3
   },
   "file_extension": ".py",
   "mimetype": "text/x-python",
   "name": "python",
   "nbconvert_exporter": "python",
   "pygments_lexer": "ipython3",
   "version": "3.13.5"
  }
 },
 "nbformat": 4,
 "nbformat_minor": 5
}
